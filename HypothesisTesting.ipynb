{
 "cells": [
  {
   "cell_type": "markdown",
   "metadata": {},
   "source": [
    "<p></p>\n",
    "<br />\n",
    "<div id=\"sec_intro_to_intro\" style=\"direction:ltl;line-height:300%;\">\n",
    "\t<font face=\"XB Zar\" size=5>\n",
    "\t\t<font color='crimson' size=7>\n",
    "            Hypothesis Testing\n",
    "        </font>\n",
    "\t</font>\n",
    "</div>"
   ]
  },
  {
   "cell_type": "markdown",
   "metadata": {},
   "source": [
    "\\begin{align*}\n",
    "H_0 &: \\text{Mean of } \\textit{X} = \\text{Mean of } \\textit{Y} \\\\\n",
    "H_1 &: \\text{Mean of } \\textit{X} \\neq \\text{Mean of } \\textit{Y}\n",
    "\\end{align*}\n"
   ]
  },
  {
   "cell_type": "markdown",
   "metadata": {},
   "source": [
    "\n",
    "<div id=\"sec_intro_to_intro\" style=\"direction:ltl;line-height:300%;\">\n",
    "\t<font face=\"XB Zar\" size=5>\n",
    "\t\t<font color='aqua' size=5>\n",
    "            Importing the Necessary Libraries\n",
    "        </font>\n",
    "\t</font>\n",
    "</div>"
   ]
  },
  {
   "cell_type": "code",
   "execution_count": 1,
   "metadata": {},
   "outputs": [],
   "source": [
    "from sqlalchemy import create_engine\n",
    "import pandas as pd\n",
    "from scipy.stats import ttest_ind"
   ]
  },
  {
   "cell_type": "markdown",
   "metadata": {},
   "source": [
    "<div id=\"sec_intro_to_intro\" style=\"direction:ltl;line-height:300%;\">\n",
    "\t<font face=\"XB Zar\" size=5>\n",
    "\t\t<font color='aqua' size=5>\n",
    "            Database connection setup\n",
    "        </font>\n",
    "\t</font>\n",
    "</div>"
   ]
  },
  {
   "cell_type": "code",
   "execution_count": 2,
   "metadata": {},
   "outputs": [],
   "source": [
    "username = \"root\"\n",
    "password = \"root\"\n",
    "server = \"localhost\"\n",
    "database_url = f\"mysql+mysqlconnector://{username}:{password}@{server}:3306/quera_project_phase_1?charset=utf8mb4\"\n",
    "engine = create_engine(database_url)"
   ]
  },
  {
   "cell_type": "markdown",
   "metadata": {},
   "source": [
    "<div id=\"sec_intro_to_intro\" style=\"direction:ltl;line-height:300%;\">\n",
    "\t<font face=\"XB Zar\" size=5>\n",
    "\t\t<font color='aqua' size=5>\n",
    "            1.What days should I work at Quera?\n",
    "        </font>\n",
    "\t</font>\n",
    "</div>"
   ]
  },
  {
   "cell_type": "code",
   "execution_count": 3,
   "metadata": {},
   "outputs": [
    {
     "data": {
      "text/html": [
       "<div>\n",
       "<style scoped>\n",
       "    .dataframe tbody tr th:only-of-type {\n",
       "        vertical-align: middle;\n",
       "    }\n",
       "\n",
       "    .dataframe tbody tr th {\n",
       "        vertical-align: top;\n",
       "    }\n",
       "\n",
       "    .dataframe thead th {\n",
       "        text-align: right;\n",
       "    }\n",
       "</style>\n",
       "<table border=\"1\" class=\"dataframe\">\n",
       "  <thead>\n",
       "    <tr style=\"text-align: right;\">\n",
       "      <th></th>\n",
       "      <th>c_id</th>\n",
       "      <th>date</th>\n",
       "      <th>open</th>\n",
       "      <th>close</th>\n",
       "    </tr>\n",
       "  </thead>\n",
       "  <tbody>\n",
       "    <tr>\n",
       "      <th>0</th>\n",
       "      <td>1</td>\n",
       "      <td>2023-08-31</td>\n",
       "      <td>27301.9</td>\n",
       "      <td>25931.5</td>\n",
       "    </tr>\n",
       "    <tr>\n",
       "      <th>1</th>\n",
       "      <td>1</td>\n",
       "      <td>2023-08-30</td>\n",
       "      <td>27726.1</td>\n",
       "      <td>27297.3</td>\n",
       "    </tr>\n",
       "    <tr>\n",
       "      <th>2</th>\n",
       "      <td>1</td>\n",
       "      <td>2023-08-29</td>\n",
       "      <td>26102.5</td>\n",
       "      <td>27727.4</td>\n",
       "    </tr>\n",
       "    <tr>\n",
       "      <th>3</th>\n",
       "      <td>1</td>\n",
       "      <td>2023-08-28</td>\n",
       "      <td>26089.6</td>\n",
       "      <td>26106.2</td>\n",
       "    </tr>\n",
       "    <tr>\n",
       "      <th>4</th>\n",
       "      <td>1</td>\n",
       "      <td>2023-08-27</td>\n",
       "      <td>26008.2</td>\n",
       "      <td>26089.7</td>\n",
       "    </tr>\n",
       "  </tbody>\n",
       "</table>\n",
       "</div>"
      ],
      "text/plain": [
       "   c_id        date     open    close\n",
       "0     1  2023-08-31  27301.9  25931.5\n",
       "1     1  2023-08-30  27726.1  27297.3\n",
       "2     1  2023-08-29  26102.5  27727.4\n",
       "3     1  2023-08-28  26089.6  26106.2\n",
       "4     1  2023-08-27  26008.2  26089.7"
      ]
     },
     "execution_count": 3,
     "metadata": {},
     "output_type": "execute_result"
    }
   ],
   "source": [
    "query = \"\"\"\n",
    "    SELECT\n",
    "        c_id,\n",
    "        date,\n",
    "        open,\n",
    "        close\n",
    "    FROM\n",
    "        daily_market\n",
    "\"\"\"\n",
    "df = pd.read_sql_query(query, engine)\n",
    "df.head()"
   ]
  },
  {
   "cell_type": "code",
   "execution_count": 4,
   "metadata": {},
   "outputs": [
    {
     "data": {
      "text/html": [
       "<div>\n",
       "<style scoped>\n",
       "    .dataframe tbody tr th:only-of-type {\n",
       "        vertical-align: middle;\n",
       "    }\n",
       "\n",
       "    .dataframe tbody tr th {\n",
       "        vertical-align: top;\n",
       "    }\n",
       "\n",
       "    .dataframe thead th {\n",
       "        text-align: right;\n",
       "    }\n",
       "</style>\n",
       "<table border=\"1\" class=\"dataframe\">\n",
       "  <thead>\n",
       "    <tr style=\"text-align: right;\">\n",
       "      <th></th>\n",
       "      <th>c_id</th>\n",
       "      <th>date</th>\n",
       "      <th>open</th>\n",
       "      <th>close</th>\n",
       "      <th>price_change</th>\n",
       "      <th>weekday</th>\n",
       "    </tr>\n",
       "  </thead>\n",
       "  <tbody>\n",
       "    <tr>\n",
       "      <th>0</th>\n",
       "      <td>1</td>\n",
       "      <td>2023-08-31</td>\n",
       "      <td>27301.9</td>\n",
       "      <td>25931.5</td>\n",
       "      <td>1370.4</td>\n",
       "      <td>Thursday</td>\n",
       "    </tr>\n",
       "    <tr>\n",
       "      <th>1</th>\n",
       "      <td>1</td>\n",
       "      <td>2023-08-30</td>\n",
       "      <td>27726.1</td>\n",
       "      <td>27297.3</td>\n",
       "      <td>428.8</td>\n",
       "      <td>Wednesday</td>\n",
       "    </tr>\n",
       "    <tr>\n",
       "      <th>2</th>\n",
       "      <td>1</td>\n",
       "      <td>2023-08-29</td>\n",
       "      <td>26102.5</td>\n",
       "      <td>27727.4</td>\n",
       "      <td>1624.9</td>\n",
       "      <td>Tuesday</td>\n",
       "    </tr>\n",
       "    <tr>\n",
       "      <th>3</th>\n",
       "      <td>1</td>\n",
       "      <td>2023-08-28</td>\n",
       "      <td>26089.6</td>\n",
       "      <td>26106.2</td>\n",
       "      <td>16.6</td>\n",
       "      <td>Monday</td>\n",
       "    </tr>\n",
       "    <tr>\n",
       "      <th>4</th>\n",
       "      <td>1</td>\n",
       "      <td>2023-08-27</td>\n",
       "      <td>26008.2</td>\n",
       "      <td>26089.7</td>\n",
       "      <td>81.5</td>\n",
       "      <td>Sunday</td>\n",
       "    </tr>\n",
       "  </tbody>\n",
       "</table>\n",
       "</div>"
      ],
      "text/plain": [
       "   c_id       date     open    close  price_change    weekday\n",
       "0     1 2023-08-31  27301.9  25931.5        1370.4   Thursday\n",
       "1     1 2023-08-30  27726.1  27297.3         428.8  Wednesday\n",
       "2     1 2023-08-29  26102.5  27727.4        1624.9    Tuesday\n",
       "3     1 2023-08-28  26089.6  26106.2          16.6     Monday\n",
       "4     1 2023-08-27  26008.2  26089.7          81.5     Sunday"
      ]
     },
     "execution_count": 4,
     "metadata": {},
     "output_type": "execute_result"
    }
   ],
   "source": [
    "df['price_change'] = abs(df['close'] - df['open'])\n",
    "df['date'] = pd.to_datetime(df['date'])\n",
    "df['weekday'] = df['date'].dt.day_name()\n",
    "df.head()"
   ]
  },
  {
   "cell_type": "code",
   "execution_count": 5,
   "metadata": {},
   "outputs": [
    {
     "name": "stdout",
     "output_type": "stream",
     "text": [
      "Weekend DataFrame:\n",
      "       c_id       date          open         close  price_change   weekday\n",
      "0         1 2023-08-31  27301.900000  25931.500000   1370.400000  Thursday\n",
      "5         1 2023-08-26  26047.200000  26008.500000     38.700000  Saturday\n",
      "6         1 2023-08-25  26163.700000  26047.700000    116.000000    Friday\n",
      "7         1 2023-08-24  26431.500000  26162.400000    269.100000  Thursday\n",
      "12        1 2023-08-19  26047.800000  26096.200000     48.400000  Saturday\n",
      "...     ...        ...           ...           ...           ...       ...\n",
      "70316   200 2022-09-10      0.005837      0.005934      0.000098  Saturday\n",
      "70317   200 2022-09-09      0.005661      0.005839      0.000178    Friday\n",
      "70318   200 2022-09-08      0.005586      0.005655      0.000070  Thursday\n",
      "70323   200 2022-09-03      0.006022      0.006014      0.000008  Saturday\n",
      "70324   200 2022-09-02      0.006171      0.006025      0.000146    Friday\n",
      "\n",
      "[30137 rows x 6 columns]\n",
      "Weekday DataFrame:\n",
      "       c_id       date          open         close  price_change  weekday\n",
      "2         1 2023-08-29  26102.500000  27727.400000   1624.900000  Tuesday\n",
      "3         1 2023-08-28  26089.600000  26106.200000     16.600000   Monday\n",
      "4         1 2023-08-27  26008.200000  26089.700000     81.500000   Sunday\n",
      "9         1 2023-08-22  26130.700000  26031.700000     99.000000  Tuesday\n",
      "10        1 2023-08-21  26188.700000  26124.100000     64.600000   Monday\n",
      "...     ...        ...           ...           ...           ...      ...\n",
      "70314   200 2022-09-12      0.006594      0.006215      0.000379   Monday\n",
      "70315   200 2022-09-11      0.005934      0.006593      0.000660   Sunday\n",
      "70320   200 2022-09-06      0.005998      0.005566      0.000432  Tuesday\n",
      "70321   200 2022-09-05      0.006053      0.005997      0.000056   Monday\n",
      "70322   200 2022-09-04      0.006017      0.006053      0.000036   Sunday\n",
      "\n",
      "[30136 rows x 6 columns]\n"
     ]
    }
   ],
   "source": [
    "weekend_df = df[df['date'].dt.dayofweek.isin([3, 4, 5])]\n",
    "weekday_df = df[df['date'].dt.dayofweek.isin([6, 0, 1])]\n",
    "print(\"Weekend DataFrame:\")\n",
    "print(weekend_df)\n",
    "\n",
    "print(\"Weekday DataFrame:\")\n",
    "print(weekday_df)"
   ]
  },
  {
   "cell_type": "code",
   "execution_count": 6,
   "metadata": {},
   "outputs": [
    {
     "name": "stdout",
     "output_type": "stream",
     "text": [
      "<bound method NDFrame._add_numeric_operations.<locals>.mean of 2        1624.900000\n",
      "3          16.600000\n",
      "4          81.500000\n",
      "9          99.000000\n",
      "10         64.600000\n",
      "            ...     \n",
      "70314       0.000379\n",
      "70315       0.000660\n",
      "70320       0.000432\n",
      "70321       0.000056\n",
      "70322       0.000036\n",
      "Name: price_change, Length: 30136, dtype: float64>\n",
      "<bound method NDFrame._add_numeric_operations.<locals>.mean of 0        1370.400000\n",
      "5          38.700000\n",
      "6         116.000000\n",
      "7         269.100000\n",
      "12         48.400000\n",
      "            ...     \n",
      "70316       0.000098\n",
      "70317       0.000178\n",
      "70318       0.000070\n",
      "70323       0.000008\n",
      "70324       0.000146\n",
      "Name: price_change, Length: 30137, dtype: float64>\n"
     ]
    }
   ],
   "source": [
    "print(weekday_df['price_change'].mean)\n",
    "print(weekend_df['price_change'].mean)"
   ]
  },
  {
   "cell_type": "code",
   "execution_count": null,
   "metadata": {},
   "outputs": [],
   "source": [
    "statistic, p_value = stats.mannwhitneyu(weekend_df['price_change'], weekday_df['price_change'])\n",
    "p_value"
   ]
  },
  {
   "cell_type": "markdown",
   "metadata": {},
   "source": [
    "<div id=\"sec_intro_to_intro\" style=\"direction:ltl;line-height:300%;\">\n",
    "\t<font face=\"XB Zar\" size=5>\n",
    "                As evident, the p-value under consideration lacks the decisiveness to reject the null hypothesis outright. Its determination hinges on the threshold we establish for our testing.\n",
    "        </font>\n",
    "</div>"
   ]
  },
  {
   "cell_type": "markdown",
   "metadata": {},
   "source": [
    "<div id=\"sec_intro_to_intro\" style=\"direction:ltl;line-height:300%;\">\n",
    "\t<font face=\"XB Zar\" size=3>\n",
    "\t\t<font color='aqua' size=3>\n",
    "           p-value is BIGGER than 0.05, so we cannot accept the null hypothesis. Therefore, there is a statistically significant difference between weekends and weekdays.\n",
    "            We choose to work on weekdays because the mean value of price change is bigger on weekdays.\n",
    "        </font>\n",
    "\t</font>\n",
    "</div>"
   ]
  }
 ],
 "metadata": {
  "kernelspec": {
   "display_name": "Python 3",
   "language": "python",
   "name": "python3"
  },
  "language_info": {
   "codemirror_mode": {
    "name": "ipython",
    "version": 3
   },
   "file_extension": ".py",
   "mimetype": "text/x-python",
   "name": "python",
   "nbconvert_exporter": "python",
   "pygments_lexer": "ipython3",
   "version": "3.11.5"
  },
  "orig_nbformat": 4
 },
 "nbformat": 4,
 "nbformat_minor": 2
}
